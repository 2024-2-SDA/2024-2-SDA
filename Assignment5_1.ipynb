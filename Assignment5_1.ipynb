{
 "cells": [
  {
   "cell_type": "code",
   "execution_count": 1,
   "id": "cf6f4e5f-946e-4a72-ab54-b05556476b1a",
   "metadata": {
    "execution": {
     "iopub.execute_input": "2024-12-04T04:50:32.769424Z",
     "iopub.status.busy": "2024-12-04T04:50:32.768415Z",
     "iopub.status.idle": "2024-12-04T04:50:38.844418Z",
     "shell.execute_reply": "2024-12-04T04:50:38.844418Z",
     "shell.execute_reply.started": "2024-12-04T04:50:32.769424Z"
    }
   },
   "outputs": [],
   "source": [
    "import pandas as pd\n",
    "import seaborn as sns\n",
    "import numpy as np\n",
    "import matplotlib.pyplot as plt\n",
    "from scipy import stats"
   ]
  },
  {
   "cell_type": "code",
   "execution_count": 2,
   "id": "c9dbbd1b-2ccc-40ad-99b7-ed18a2c47cfc",
   "metadata": {
    "execution": {
     "iopub.execute_input": "2024-12-04T04:50:38.847930Z",
     "iopub.status.busy": "2024-12-04T04:50:38.847930Z",
     "iopub.status.idle": "2024-12-04T04:50:38.876158Z",
     "shell.execute_reply": "2024-12-04T04:50:38.874377Z",
     "shell.execute_reply.started": "2024-12-04T04:50:38.847930Z"
    }
   },
   "outputs": [
    {
     "name": "stdout",
     "output_type": "stream",
     "text": [
      "C:\\Users\\autum\\anaconda3\\Lib\\site-packages\\matplotlib\\mpl-data\\matplotlibrc\n",
      "C:\\Users\\autum\\.matplotlib\n"
     ]
    }
   ],
   "source": [
    "import matplotlib as mpl\n",
    "print(mpl.matplotlib_fname())\n",
    "print(mpl.get_cachedir())\n",
    "mpl.rcParams['font.family'] = 'NanumGothic'"
   ]
  },
  {
   "cell_type": "code",
   "execution_count": 3,
   "id": "d7342daa-01ff-4f56-993b-a5c18a11c01f",
   "metadata": {
    "execution": {
     "iopub.execute_input": "2024-12-04T04:50:38.886209Z",
     "iopub.status.busy": "2024-12-04T04:50:38.886209Z",
     "iopub.status.idle": "2024-12-04T04:50:39.022422Z",
     "shell.execute_reply": "2024-12-04T04:50:39.022422Z",
     "shell.execute_reply.started": "2024-12-04T04:50:38.886209Z"
    }
   },
   "outputs": [
    {
     "data": {
      "text/html": [
       "<div>\n",
       "<style scoped>\n",
       "    .dataframe tbody tr th:only-of-type {\n",
       "        vertical-align: middle;\n",
       "    }\n",
       "\n",
       "    .dataframe tbody tr th {\n",
       "        vertical-align: top;\n",
       "    }\n",
       "\n",
       "    .dataframe thead th {\n",
       "        text-align: right;\n",
       "    }\n",
       "</style>\n",
       "<table border=\"1\" class=\"dataframe\">\n",
       "  <thead>\n",
       "    <tr style=\"text-align: right;\">\n",
       "      <th></th>\n",
       "      <th>Certification Course</th>\n",
       "      <th>Gender</th>\n",
       "      <th>Department</th>\n",
       "      <th>Height(CM)</th>\n",
       "      <th>Weight(KG)</th>\n",
       "      <th>10th Mark</th>\n",
       "      <th>12th Mark</th>\n",
       "      <th>college mark</th>\n",
       "      <th>hobbies</th>\n",
       "      <th>daily studing time</th>\n",
       "      <th>prefer to study in</th>\n",
       "      <th>salary expectation</th>\n",
       "      <th>Do you like your degree?</th>\n",
       "      <th>willingness to pursue a career based on their degree</th>\n",
       "      <th>social media &amp; video</th>\n",
       "      <th>Travelling Time</th>\n",
       "      <th>Stress Level</th>\n",
       "      <th>Financial Status</th>\n",
       "      <th>part-time job</th>\n",
       "    </tr>\n",
       "  </thead>\n",
       "  <tbody>\n",
       "    <tr>\n",
       "      <th>0</th>\n",
       "      <td>No</td>\n",
       "      <td>Male</td>\n",
       "      <td>BCA</td>\n",
       "      <td>100.0</td>\n",
       "      <td>58.0</td>\n",
       "      <td>79.0</td>\n",
       "      <td>64.0</td>\n",
       "      <td>80.0</td>\n",
       "      <td>Video Games</td>\n",
       "      <td>0 - 30 minute</td>\n",
       "      <td>Morning</td>\n",
       "      <td>40000</td>\n",
       "      <td>No</td>\n",
       "      <td>50%</td>\n",
       "      <td>1.30 - 2 hour</td>\n",
       "      <td>30 - 60 minutes</td>\n",
       "      <td>Bad</td>\n",
       "      <td>Bad</td>\n",
       "      <td>No</td>\n",
       "    </tr>\n",
       "    <tr>\n",
       "      <th>1</th>\n",
       "      <td>No</td>\n",
       "      <td>Female</td>\n",
       "      <td>BCA</td>\n",
       "      <td>90.0</td>\n",
       "      <td>40.0</td>\n",
       "      <td>70.0</td>\n",
       "      <td>80.0</td>\n",
       "      <td>70.0</td>\n",
       "      <td>Cinema</td>\n",
       "      <td>30 - 60 minute</td>\n",
       "      <td>Morning</td>\n",
       "      <td>15000</td>\n",
       "      <td>Yes</td>\n",
       "      <td>75%</td>\n",
       "      <td>1 - 1.30 hour</td>\n",
       "      <td>0 - 30 minutes</td>\n",
       "      <td>Bad</td>\n",
       "      <td>Bad</td>\n",
       "      <td>No</td>\n",
       "    </tr>\n",
       "    <tr>\n",
       "      <th>2</th>\n",
       "      <td>Yes</td>\n",
       "      <td>Male</td>\n",
       "      <td>BCA</td>\n",
       "      <td>159.0</td>\n",
       "      <td>78.0</td>\n",
       "      <td>71.0</td>\n",
       "      <td>61.0</td>\n",
       "      <td>55.0</td>\n",
       "      <td>Cinema</td>\n",
       "      <td>1 - 2 Hour</td>\n",
       "      <td>Anytime</td>\n",
       "      <td>13000</td>\n",
       "      <td>Yes</td>\n",
       "      <td>50%</td>\n",
       "      <td>More than 2 hour</td>\n",
       "      <td>30 - 60 minutes</td>\n",
       "      <td>Awful</td>\n",
       "      <td>Bad</td>\n",
       "      <td>No</td>\n",
       "    </tr>\n",
       "    <tr>\n",
       "      <th>3</th>\n",
       "      <td>Yes</td>\n",
       "      <td>Female</td>\n",
       "      <td>BCA</td>\n",
       "      <td>147.0</td>\n",
       "      <td>20.0</td>\n",
       "      <td>70.0</td>\n",
       "      <td>59.0</td>\n",
       "      <td>58.0</td>\n",
       "      <td>Reading books</td>\n",
       "      <td>1 - 2 Hour</td>\n",
       "      <td>Anytime</td>\n",
       "      <td>1500000</td>\n",
       "      <td>No</td>\n",
       "      <td>50%</td>\n",
       "      <td>1.30 - 2 hour</td>\n",
       "      <td>0 - 30 minutes</td>\n",
       "      <td>Bad</td>\n",
       "      <td>good</td>\n",
       "      <td>No</td>\n",
       "    </tr>\n",
       "    <tr>\n",
       "      <th>4</th>\n",
       "      <td>No</td>\n",
       "      <td>Male</td>\n",
       "      <td>BCA</td>\n",
       "      <td>170.0</td>\n",
       "      <td>54.0</td>\n",
       "      <td>40.0</td>\n",
       "      <td>65.0</td>\n",
       "      <td>30.0</td>\n",
       "      <td>Video Games</td>\n",
       "      <td>30 - 60 minute</td>\n",
       "      <td>Morning</td>\n",
       "      <td>50000</td>\n",
       "      <td>Yes</td>\n",
       "      <td>25%</td>\n",
       "      <td>1.30 - 2 hour</td>\n",
       "      <td>30 - 60 minutes</td>\n",
       "      <td>Good</td>\n",
       "      <td>good</td>\n",
       "      <td>No</td>\n",
       "    </tr>\n",
       "  </tbody>\n",
       "</table>\n",
       "</div>"
      ],
      "text/plain": [
       "  Certification Course  Gender Department  Height(CM)  Weight(KG)  10th Mark  \\\n",
       "0                   No    Male        BCA       100.0        58.0       79.0   \n",
       "1                   No  Female        BCA        90.0        40.0       70.0   \n",
       "2                  Yes    Male        BCA       159.0        78.0       71.0   \n",
       "3                  Yes  Female        BCA       147.0        20.0       70.0   \n",
       "4                   No    Male        BCA       170.0        54.0       40.0   \n",
       "\n",
       "   12th Mark  college mark        hobbies daily studing time  \\\n",
       "0       64.0          80.0    Video Games      0 - 30 minute   \n",
       "1       80.0          70.0         Cinema     30 - 60 minute   \n",
       "2       61.0          55.0         Cinema         1 - 2 Hour   \n",
       "3       59.0          58.0  Reading books         1 - 2 Hour   \n",
       "4       65.0          30.0    Video Games     30 - 60 minute   \n",
       "\n",
       "  prefer to study in  salary expectation Do you like your degree?  \\\n",
       "0            Morning               40000                       No   \n",
       "1            Morning               15000                      Yes   \n",
       "2            Anytime               13000                      Yes   \n",
       "3            Anytime             1500000                       No   \n",
       "4            Morning               50000                      Yes   \n",
       "\n",
       "  willingness to pursue a career based on their degree   social media & video  \\\n",
       "0                                                50%            1.30 - 2 hour   \n",
       "1                                                75%            1 - 1.30 hour   \n",
       "2                                                50%         More than 2 hour   \n",
       "3                                                50%            1.30 - 2 hour   \n",
       "4                                                25%            1.30 - 2 hour   \n",
       "\n",
       "  Travelling Time  Stress Level  Financial Status part-time job  \n",
       "0  30 - 60 minutes           Bad              Bad            No  \n",
       "1   0 - 30 minutes           Bad              Bad            No  \n",
       "2  30 - 60 minutes         Awful              Bad            No  \n",
       "3   0 - 30 minutes           Bad             good            No  \n",
       "4  30 - 60 minutes          Good             good            No  "
      ]
     },
     "execution_count": 3,
     "metadata": {},
     "output_type": "execute_result"
    }
   ],
   "source": [
    "file = r\"C:\\Users\\autum\\OneDrive\\바탕 화면\\2-2\\통계적데이터분석\\data\\Student Attitude and Behavior.csv\"\n",
    "data = pd.read_csv(file)\n",
    "data.head()"
   ]
  },
  {
   "cell_type": "code",
   "execution_count": 4,
   "id": "3b1b5cc1-8915-4dcd-a267-1198c9256bb3",
   "metadata": {
    "execution": {
     "iopub.execute_input": "2024-12-04T04:50:39.022422Z",
     "iopub.status.busy": "2024-12-04T04:50:39.022422Z",
     "iopub.status.idle": "2024-12-04T04:50:40.063309Z",
     "shell.execute_reply": "2024-12-04T04:50:40.063309Z",
     "shell.execute_reply.started": "2024-12-04T04:50:39.022422Z"
    }
   },
   "outputs": [
    {
     "data": {
      "image/png": "[encoded data removed]",
      "text/plain": [
       "<Figure size 1000x600 with 1 Axes>"
      ]
     },
     "metadata": {},
     "output_type": "display_data"
    }
   ],
   "source": [
    "plt.figure(figsize = (10, 6))\n",
    "sns.scatterplot(data, x = \"social media & video\", y = \"college mark\")\n",
    "plt.title(\"소셜 미디어/비디오 사용 시간과 대학 점수 간의 산점도\")\n",
    "plt.xlabel(\"하루 소셜 미디어 사용 시간\")\n",
    "plt.ylabel(\"최종 점수\")\n",
    "plt.axhline(y=data[\"college mark\"].mean(), color='r', linestyle='--', label='평균 점수')\n",
    "plt.legend()\n",
    "plt.show()"
   ]
  },
  {
   "cell_type": "code",
   "execution_count": 5,
   "id": "d46507b8-9c8b-421b-883e-6ae682628cf9",
   "metadata": {
    "execution": {
     "iopub.execute_input": "2024-12-04T04:50:40.070818Z",
     "iopub.status.busy": "2024-12-04T04:50:40.070818Z",
     "iopub.status.idle": "2024-12-04T04:50:40.096511Z",
     "shell.execute_reply": "2024-12-04T04:50:40.096511Z",
     "shell.execute_reply.started": "2024-12-04T04:50:40.070818Z"
    }
   },
   "outputs": [],
   "source": [
    "# social media & videos 행 숫자로 변경\n",
    "def convert_hours(time):\n",
    "    time = time.strip()\n",
    "    if \"0 Minute\" == time :\n",
    "        return 0\n",
    "    elif \"1 - 30 Minute\" == time:\n",
    "        return 0.25\n",
    "    elif \"30 - 60 Minute\" == time:\n",
    "        return 0.75\n",
    "    elif \"1 - 1.30 hour\" == time:\n",
    "        return 1.25\n",
    "    elif \"1.30 - 2 hour\" == time:\n",
    "        return 1.75\n",
    "    elif \"More than 2 hour\" == time:\n",
    "        return 2.25\n",
    "        \n",
    "data[\"social media & video hours\"] = data[\"social media & video\"].apply(convert_hours)\n",
    "\n",
    "#1을 기준으로 1시간 이하 사용, 1시간 이상 사용으로 그룹화 \n",
    "median = 1\n",
    "low_use = data[data[\"social media & video hours\"] <= median][\"college mark\"]\n",
    "high_use = data[data[\"social media & video hours\"] > median][\"college mark\"]"
   ]
  },
  {
   "cell_type": "code",
   "execution_count": 6,
   "id": "36c99745-8055-4c89-a862-1e9237c065cb",
   "metadata": {
    "execution": {
     "iopub.execute_input": "2024-12-04T04:50:40.102565Z",
     "iopub.status.busy": "2024-12-04T04:50:40.102565Z",
     "iopub.status.idle": "2024-12-04T04:50:40.121532Z",
     "shell.execute_reply": "2024-12-04T04:50:40.121532Z",
     "shell.execute_reply.started": "2024-12-04T04:50:40.102565Z"
    }
   },
   "outputs": [
    {
     "name": "stdout",
     "output_type": "stream",
     "text": [
      "ShapiroResult(statistic=0.9056743622906039, pvalue=3.5315274108368077e-07)\n",
      "ShapiroResult(statistic=0.84883871982296, pvalue=1.98985138045109e-09)\n"
     ]
    }
   ],
   "source": [
    "# normal\n",
    "from scipy.stats import shapiro\n",
    "\n",
    "print(shapiro(low_use))\n",
    "print(shapiro(high_use))\n",
    "# 두 그룹 모두 p < 0.05 이므로 '데이터가 정규성을 따른다'는 귀무가설 기각\n",
    "# 즉, 정규성을 만족하지 않는다."
   ]
  },
  {
   "cell_type": "code",
   "execution_count": 7,
   "id": "41fac925-7f68-4422-a9c8-a0d7b34cd8bf",
   "metadata": {
    "execution": {
     "iopub.execute_input": "2024-12-04T04:50:40.134040Z",
     "iopub.status.busy": "2024-12-04T04:50:40.134040Z",
     "iopub.status.idle": "2024-12-04T04:50:40.160861Z",
     "shell.execute_reply": "2024-12-04T04:50:40.160861Z",
     "shell.execute_reply.started": "2024-12-04T04:50:40.134040Z"
    }
   },
   "outputs": [
    {
     "name": "stdout",
     "output_type": "stream",
     "text": [
      "0.8307362852305175 0.3620597108450082\n"
     ]
    }
   ],
   "source": [
    "from scipy.stats import bartlett\n",
    "\n",
    "stat, p = bartlett(low_use, high_use)\n",
    "print(stat, p) \n",
    "#p > 0.05 이므로 '분산이 동일하다'는 귀무가설 기각하지 않음\n",
    "#즉, 분산이 동일하다고 볼 수 있음"
   ]
  },
  {
   "cell_type": "code",
   "execution_count": 10,
   "id": "4f1f002d-a6e4-4ae4-8308-241c0db7cd50",
   "metadata": {
    "execution": {
     "iopub.execute_input": "2024-12-04T05:01:13.549467Z",
     "iopub.status.busy": "2024-12-04T05:01:13.548467Z",
     "iopub.status.idle": "2024-12-04T05:01:13.562840Z",
     "shell.execute_reply": "2024-12-04T05:01:13.560839Z",
     "shell.execute_reply.started": "2024-12-04T05:01:13.549467Z"
    }
   },
   "outputs": [
    {
     "name": "stdout",
     "output_type": "stream",
     "text": [
      "0.39146744991749033 0.5315290547250976\n"
     ]
    }
   ],
   "source": [
    "from scipy.stats import kruskal\n",
    "\n",
    "stat, p = kruskal(low_use, high_use)\n",
    "print(stat, p)\n",
    "# P> 0.05 이상 이므로 '두 그룹의 중앙값은 같다'는 귀무가설 기각하지 못함\n",
    "# 즉, '소셜미디어와 비디오의 사용 시간은 대학 성적과 관계가 없다'는 결론 도출"
   ]
  },
  {
   "cell_type": "code",
   "execution_count": null,
   "id": "928cf736-e68c-4f47-a735-fa373a923171",
   "metadata": {},
   "outputs": [],
   "source": []
  }
 ],
 "metadata": {
  "kernelspec": {
   "display_name": "stat",
   "language": "python",
   "name": "base"
  },
  "language_info": {
   "codemirror_mode": {
    "name": "ipython",
    "version": 3
   },
   "file_extension": ".py",
   "mimetype": "text/x-python",
   "name": "python",
   "nbconvert_exporter": "python",
   "pygments_lexer": "ipython3",
   "version": "3.12.4"
  }
 },
 "nbformat": 4,
 "nbformat_minor": 5
}
