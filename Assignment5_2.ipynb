{
 "cells": [
  {
   "cell_type": "code",
   "execution_count": 1,
   "id": "5752e52c-3220-4895-a4c0-f697cd5be25b",
   "metadata": {
    "execution": {
     "iopub.execute_input": "2024-12-04T12:31:19.210207Z",
     "iopub.status.busy": "2024-12-04T12:31:19.209000Z",
     "iopub.status.idle": "2024-12-04T12:31:25.664075Z",
     "shell.execute_reply": "2024-12-04T12:31:25.661980Z",
     "shell.execute_reply.started": "2024-12-04T12:31:19.210207Z"
    }
   },
   "outputs": [],
   "source": [
    "import pandas as pd\n",
    "import seaborn as sns\n",
    "import numpy as np\n",
    "import matplotlib.pyplot as plt\n",
    "from scipy import stats"
   ]
  },
  {
   "cell_type": "code",
   "execution_count": 2,
   "id": "8fe87674-58b6-4122-a2e8-1d09d2d02a9c",
   "metadata": {
    "execution": {
     "iopub.execute_input": "2024-12-04T12:31:27.185984Z",
     "iopub.status.busy": "2024-12-04T12:31:27.185478Z",
     "iopub.status.idle": "2024-12-04T12:31:27.204717Z",
     "shell.execute_reply": "2024-12-04T12:31:27.202713Z",
     "shell.execute_reply.started": "2024-12-04T12:31:27.185984Z"
    }
   },
   "outputs": [
    {
     "name": "stdout",
     "output_type": "stream",
     "text": [
      "C:\\Users\\autum\\anaconda3\\Lib\\site-packages\\matplotlib\\mpl-data\\matplotlibrc\n",
      "C:\\Users\\autum\\.matplotlib\n"
     ]
    }
   ],
   "source": [
    "import matplotlib as mpl\n",
    "print(mpl.matplotlib_fname())\n",
    "print(mpl.get_cachedir())\n",
    "mpl.rcParams['font.family'] = 'NanumGothic'"
   ]
  },
  {
   "cell_type": "code",
   "execution_count": 3,
   "id": "ae3b0260-68ac-48d5-a229-4e569dec9bea",
   "metadata": {
    "execution": {
     "iopub.execute_input": "2024-12-04T12:31:49.987072Z",
     "iopub.status.busy": "2024-12-04T12:31:49.985726Z",
     "iopub.status.idle": "2024-12-04T12:31:50.083539Z",
     "shell.execute_reply": "2024-12-04T12:31:50.079541Z",
     "shell.execute_reply.started": "2024-12-04T12:31:49.987072Z"
    }
   },
   "outputs": [
    {
     "data": {
      "text/html": [
       "<div>\n",
       "<style scoped>\n",
       "    .dataframe tbody tr th:only-of-type {\n",
       "        vertical-align: middle;\n",
       "    }\n",
       "\n",
       "    .dataframe tbody tr th {\n",
       "        vertical-align: top;\n",
       "    }\n",
       "\n",
       "    .dataframe thead th {\n",
       "        text-align: right;\n",
       "    }\n",
       "</style>\n",
       "<table border=\"1\" class=\"dataframe\">\n",
       "  <thead>\n",
       "    <tr style=\"text-align: right;\">\n",
       "      <th></th>\n",
       "      <th>Certification Course</th>\n",
       "      <th>Gender</th>\n",
       "      <th>Department</th>\n",
       "      <th>Height(CM)</th>\n",
       "      <th>Weight(KG)</th>\n",
       "      <th>10th Mark</th>\n",
       "      <th>12th Mark</th>\n",
       "      <th>college mark</th>\n",
       "      <th>hobbies</th>\n",
       "      <th>daily studing time</th>\n",
       "      <th>prefer to study in</th>\n",
       "      <th>salary expectation</th>\n",
       "      <th>Do you like your degree?</th>\n",
       "      <th>willingness to pursue a career based on their degree</th>\n",
       "      <th>social media &amp; video</th>\n",
       "      <th>Travelling Time</th>\n",
       "      <th>Stress Level</th>\n",
       "      <th>Financial Status</th>\n",
       "      <th>part-time job</th>\n",
       "    </tr>\n",
       "  </thead>\n",
       "  <tbody>\n",
       "    <tr>\n",
       "      <th>0</th>\n",
       "      <td>No</td>\n",
       "      <td>Male</td>\n",
       "      <td>BCA</td>\n",
       "      <td>100.0</td>\n",
       "      <td>58.0</td>\n",
       "      <td>79.0</td>\n",
       "      <td>64.0</td>\n",
       "      <td>80.0</td>\n",
       "      <td>Video Games</td>\n",
       "      <td>0 - 30 minute</td>\n",
       "      <td>Morning</td>\n",
       "      <td>40000</td>\n",
       "      <td>No</td>\n",
       "      <td>50%</td>\n",
       "      <td>1.30 - 2 hour</td>\n",
       "      <td>30 - 60 minutes</td>\n",
       "      <td>Bad</td>\n",
       "      <td>Bad</td>\n",
       "      <td>No</td>\n",
       "    </tr>\n",
       "    <tr>\n",
       "      <th>1</th>\n",
       "      <td>No</td>\n",
       "      <td>Female</td>\n",
       "      <td>BCA</td>\n",
       "      <td>90.0</td>\n",
       "      <td>40.0</td>\n",
       "      <td>70.0</td>\n",
       "      <td>80.0</td>\n",
       "      <td>70.0</td>\n",
       "      <td>Cinema</td>\n",
       "      <td>30 - 60 minute</td>\n",
       "      <td>Morning</td>\n",
       "      <td>15000</td>\n",
       "      <td>Yes</td>\n",
       "      <td>75%</td>\n",
       "      <td>1 - 1.30 hour</td>\n",
       "      <td>0 - 30 minutes</td>\n",
       "      <td>Bad</td>\n",
       "      <td>Bad</td>\n",
       "      <td>No</td>\n",
       "    </tr>\n",
       "    <tr>\n",
       "      <th>2</th>\n",
       "      <td>Yes</td>\n",
       "      <td>Male</td>\n",
       "      <td>BCA</td>\n",
       "      <td>159.0</td>\n",
       "      <td>78.0</td>\n",
       "      <td>71.0</td>\n",
       "      <td>61.0</td>\n",
       "      <td>55.0</td>\n",
       "      <td>Cinema</td>\n",
       "      <td>1 - 2 Hour</td>\n",
       "      <td>Anytime</td>\n",
       "      <td>13000</td>\n",
       "      <td>Yes</td>\n",
       "      <td>50%</td>\n",
       "      <td>More than 2 hour</td>\n",
       "      <td>30 - 60 minutes</td>\n",
       "      <td>Awful</td>\n",
       "      <td>Bad</td>\n",
       "      <td>No</td>\n",
       "    </tr>\n",
       "    <tr>\n",
       "      <th>3</th>\n",
       "      <td>Yes</td>\n",
       "      <td>Female</td>\n",
       "      <td>BCA</td>\n",
       "      <td>147.0</td>\n",
       "      <td>20.0</td>\n",
       "      <td>70.0</td>\n",
       "      <td>59.0</td>\n",
       "      <td>58.0</td>\n",
       "      <td>Reading books</td>\n",
       "      <td>1 - 2 Hour</td>\n",
       "      <td>Anytime</td>\n",
       "      <td>1500000</td>\n",
       "      <td>No</td>\n",
       "      <td>50%</td>\n",
       "      <td>1.30 - 2 hour</td>\n",
       "      <td>0 - 30 minutes</td>\n",
       "      <td>Bad</td>\n",
       "      <td>good</td>\n",
       "      <td>No</td>\n",
       "    </tr>\n",
       "    <tr>\n",
       "      <th>4</th>\n",
       "      <td>No</td>\n",
       "      <td>Male</td>\n",
       "      <td>BCA</td>\n",
       "      <td>170.0</td>\n",
       "      <td>54.0</td>\n",
       "      <td>40.0</td>\n",
       "      <td>65.0</td>\n",
       "      <td>30.0</td>\n",
       "      <td>Video Games</td>\n",
       "      <td>30 - 60 minute</td>\n",
       "      <td>Morning</td>\n",
       "      <td>50000</td>\n",
       "      <td>Yes</td>\n",
       "      <td>25%</td>\n",
       "      <td>1.30 - 2 hour</td>\n",
       "      <td>30 - 60 minutes</td>\n",
       "      <td>Good</td>\n",
       "      <td>good</td>\n",
       "      <td>No</td>\n",
       "    </tr>\n",
       "  </tbody>\n",
       "</table>\n",
       "</div>"
      ],
      "text/plain": [
       "  Certification Course  Gender Department  Height(CM)  Weight(KG)  10th Mark  \\\n",
       "0                   No    Male        BCA       100.0        58.0       79.0   \n",
       "1                   No  Female        BCA        90.0        40.0       70.0   \n",
       "2                  Yes    Male        BCA       159.0        78.0       71.0   \n",
       "3                  Yes  Female        BCA       147.0        20.0       70.0   \n",
       "4                   No    Male        BCA       170.0        54.0       40.0   \n",
       "\n",
       "   12th Mark  college mark        hobbies daily studing time  \\\n",
       "0       64.0          80.0    Video Games      0 - 30 minute   \n",
       "1       80.0          70.0         Cinema     30 - 60 minute   \n",
       "2       61.0          55.0         Cinema         1 - 2 Hour   \n",
       "3       59.0          58.0  Reading books         1 - 2 Hour   \n",
       "4       65.0          30.0    Video Games     30 - 60 minute   \n",
       "\n",
       "  prefer to study in  salary expectation Do you like your degree?  \\\n",
       "0            Morning               40000                       No   \n",
       "1            Morning               15000                      Yes   \n",
       "2            Anytime               13000                      Yes   \n",
       "3            Anytime             1500000                       No   \n",
       "4            Morning               50000                      Yes   \n",
       "\n",
       "  willingness to pursue a career based on their degree   social media & video  \\\n",
       "0                                                50%            1.30 - 2 hour   \n",
       "1                                                75%            1 - 1.30 hour   \n",
       "2                                                50%         More than 2 hour   \n",
       "3                                                50%            1.30 - 2 hour   \n",
       "4                                                25%            1.30 - 2 hour   \n",
       "\n",
       "  Travelling Time  Stress Level  Financial Status part-time job  \n",
       "0  30 - 60 minutes           Bad              Bad            No  \n",
       "1   0 - 30 minutes           Bad              Bad            No  \n",
       "2  30 - 60 minutes         Awful              Bad            No  \n",
       "3   0 - 30 minutes           Bad             good            No  \n",
       "4  30 - 60 minutes          Good             good            No  "
      ]
     },
     "execution_count": 3,
     "metadata": {},
     "output_type": "execute_result"
    }
   ],
   "source": [
    "file = r\"C:\\Users\\autum\\OneDrive\\바탕 화면\\2-2\\통계적데이터분석\\data\\Student Attitude and Behavior.csv\"\n",
    "df = pd.read_csv(file)\n",
    "df.head()"
   ]
  },
  {
   "cell_type": "code",
   "execution_count": 6,
   "id": "35ac445c-d302-43bf-8a8f-a38eaca15630",
   "metadata": {
    "execution": {
     "iopub.execute_input": "2024-12-04T12:32:18.457915Z",
     "iopub.status.busy": "2024-12-04T12:32:18.457915Z",
     "iopub.status.idle": "2024-12-04T12:32:18.978125Z",
     "shell.execute_reply": "2024-12-04T12:32:18.976127Z",
     "shell.execute_reply.started": "2024-12-04T12:32:18.457915Z"
    }
   },
   "outputs": [
    {
     "data": {
      "image/png": "[encoded data removed]",
      "text/plain": [
       "<Figure size 1000x600 with 1 Axes>"
      ]
     },
     "metadata": {},
     "output_type": "display_data"
    }
   ],
   "source": [
    "# 산점도 시각화\n",
    "plt.figure(figsize=(10, 6))\n",
    "sns.scatterplot(df, x='12th Mark', y='college mark')\n",
    "plt.title(\"12th Mark와 College Mark 간의 산점도\")\n",
    "plt.xlabel(\"12th Mark\")\n",
    "plt.ylabel(\"College mark\")\n",
    "plt.axhline(y=df['college mark'].mean(), color='r', linestyle='--', label='평균 College Mark')\n",
    "plt.axvline(x=df['12th Mark'].mean(), color='g', linestyle='--', label='평균 12th Mark')\n",
    "plt.legend()\n",
    "plt.show()\n"
   ]
  },
  {
   "cell_type": "code",
   "execution_count": 8,
   "id": "e3ef61ce-8112-4643-9e77-0a3836c18af3",
   "metadata": {
    "execution": {
     "iopub.execute_input": "2024-12-04T12:33:58.745183Z",
     "iopub.status.busy": "2024-12-04T12:33:58.745183Z",
     "iopub.status.idle": "2024-12-04T12:33:58.759485Z",
     "shell.execute_reply": "2024-12-04T12:33:58.757480Z",
     "shell.execute_reply.started": "2024-12-04T12:33:58.745183Z"
    }
   },
   "outputs": [
    {
     "name": "stdout",
     "output_type": "stream",
     "text": [
      "ShapiroResult(statistic=0.9843700313971336, pvalue=0.010990711180181965)\n",
      "ShapiroResult(statistic=0.8794564874058373, pvalue=1.0398821738461247e-12)\n"
     ]
    }
   ],
   "source": [
    "from scipy.stats import shapiro\n",
    "\n",
    "shapiro_12th = shapiro(df['12th Mark'])\n",
    "shapiro_college = shapiro(df['college mark'])\n",
    "print(shapiro_12th)\n",
    "print(shapiro_college)\n",
    "\n",
    "# 정규성 없음"
   ]
  },
  {
   "cell_type": "code",
   "execution_count": 10,
   "id": "45ef85de-b3f4-4b55-83ac-84a0ebc327ef",
   "metadata": {
    "execution": {
     "iopub.execute_input": "2024-12-04T12:34:30.991215Z",
     "iopub.status.busy": "2024-12-04T12:34:30.990211Z",
     "iopub.status.idle": "2024-12-04T12:34:31.004149Z",
     "shell.execute_reply": "2024-12-04T12:34:31.002593Z",
     "shell.execute_reply.started": "2024-12-04T12:34:30.991215Z"
    }
   },
   "outputs": [
    {
     "name": "stdout",
     "output_type": "stream",
     "text": [
      "7.490645794309788 0.0064380802829246886\n"
     ]
    }
   ],
   "source": [
    "from scipy.stats import levene\n",
    "\n",
    "stat,p = levene(df[\"12th Mark\"], df[\"college mark\"])\n",
    "print(stat, p)\n",
    "\n",
    "# 분산이 동일하지 않음"
   ]
  },
  {
   "cell_type": "code",
   "execution_count": 12,
   "id": "f4c3cf92-9e9d-4a05-b24c-41cf7b7c56ef",
   "metadata": {
    "execution": {
     "iopub.execute_input": "2024-12-04T12:35:00.785879Z",
     "iopub.status.busy": "2024-12-04T12:35:00.784881Z",
     "iopub.status.idle": "2024-12-04T12:35:00.801657Z",
     "shell.execute_reply": "2024-12-04T12:35:00.798658Z",
     "shell.execute_reply.started": "2024-12-04T12:35:00.785879Z"
    }
   },
   "outputs": [
    {
     "name": "stdout",
     "output_type": "stream",
     "text": [
      "8.327990511065039 0.0039038817767729555\n"
     ]
    }
   ],
   "source": [
    "from scipy.stats import kruskal\n",
    "\n",
    "stat, p = kruskal(df[\"12th Mark\"], df[\"college mark\"])\n",
    "print(stat, p)\n",
    "\n",
    "# p < 0.05 이므로 귀무가설 기각 \n",
    "# 12th Mark와 college mark 관계가 있다"
   ]
  },
  {
   "cell_type": "code",
   "execution_count": null,
   "id": "3525a25c-65b2-4bf6-ad1b-2b62c62e470b",
   "metadata": {},
   "outputs": [],
   "source": []
  }
 ],
 "metadata": {
  "kernelspec": {
   "display_name": "stat",
   "language": "python",
   "name": "base"
  },
  "language_info": {
   "codemirror_mode": {
    "name": "ipython",
    "version": 3
   },
   "file_extension": ".py",
   "mimetype": "text/x-python",
   "name": "python",
   "nbconvert_exporter": "python",
   "pygments_lexer": "ipython3",
   "version": "3.12.4"
  }
 },
 "nbformat": 4,
 "nbformat_minor": 5
}
