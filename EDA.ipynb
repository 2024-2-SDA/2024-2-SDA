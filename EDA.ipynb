{
 "cells": [
  {
   "cell_type": "code",
   "execution_count": 1,
   "id": "3a08576a-9333-4768-8068-9c66853c80d8",
   "metadata": {},
   "outputs": [],
   "source": [
    "import pandas as pd\n",
    "import numpy as np\n",
    "import seaborn as sns\n",
    "import matplotlib.pyplot as plt"
   ]
  },
  {
   "cell_type": "code",
   "execution_count": 2,
   "id": "50292782-b043-4f75-8ee6-3adfffa6bf5d",
   "metadata": {},
   "outputs": [],
   "source": [
    "data = pd.read_csv(\"Student Attitude and Behavior.csv\")"
   ]
  },
  {
   "cell_type": "code",
   "execution_count": 3,
   "id": "5fcd9aa1-a0a8-4350-8040-ac5641f28914",
   "metadata": {},
   "outputs": [
    {
     "data": {
      "text/html": [
       "<div>\n",
       "<style scoped>\n",
       "    .dataframe tbody tr th:only-of-type {\n",
       "        vertical-align: middle;\n",
       "    }\n",
       "\n",
       "    .dataframe tbody tr th {\n",
       "        vertical-align: top;\n",
       "    }\n",
       "\n",
       "    .dataframe thead th {\n",
       "        text-align: right;\n",
       "    }\n",
       "</style>\n",
       "<table border=\"1\" class=\"dataframe\">\n",
       "  <thead>\n",
       "    <tr style=\"text-align: right;\">\n",
       "      <th></th>\n",
       "      <th>Certification Course</th>\n",
       "      <th>Gender</th>\n",
       "      <th>Department</th>\n",
       "      <th>Height(CM)</th>\n",
       "      <th>Weight(KG)</th>\n",
       "      <th>10th Mark</th>\n",
       "      <th>12th Mark</th>\n",
       "      <th>college mark</th>\n",
       "      <th>hobbies</th>\n",
       "      <th>daily studing time</th>\n",
       "      <th>prefer to study in</th>\n",
       "      <th>salary expectation</th>\n",
       "      <th>Do you like your degree?</th>\n",
       "      <th>willingness to pursue a career based on their degree</th>\n",
       "      <th>social medai &amp; video</th>\n",
       "      <th>Travelling Time</th>\n",
       "      <th>Stress Level</th>\n",
       "      <th>Financial Status</th>\n",
       "      <th>part-time job</th>\n",
       "    </tr>\n",
       "  </thead>\n",
       "  <tbody>\n",
       "    <tr>\n",
       "      <th>0</th>\n",
       "      <td>No</td>\n",
       "      <td>Male</td>\n",
       "      <td>BCA</td>\n",
       "      <td>100.0</td>\n",
       "      <td>58.0</td>\n",
       "      <td>79.0</td>\n",
       "      <td>64.0</td>\n",
       "      <td>80.0</td>\n",
       "      <td>Video Games</td>\n",
       "      <td>0 - 30 minute</td>\n",
       "      <td>Morning</td>\n",
       "      <td>40000</td>\n",
       "      <td>No</td>\n",
       "      <td>50%</td>\n",
       "      <td>1.30 - 2 hour</td>\n",
       "      <td>30 - 60 minutes</td>\n",
       "      <td>Bad</td>\n",
       "      <td>Bad</td>\n",
       "      <td>No</td>\n",
       "    </tr>\n",
       "    <tr>\n",
       "      <th>1</th>\n",
       "      <td>No</td>\n",
       "      <td>Female</td>\n",
       "      <td>BCA</td>\n",
       "      <td>90.0</td>\n",
       "      <td>40.0</td>\n",
       "      <td>70.0</td>\n",
       "      <td>80.0</td>\n",
       "      <td>70.0</td>\n",
       "      <td>Cinema</td>\n",
       "      <td>30 - 60 minute</td>\n",
       "      <td>Morning</td>\n",
       "      <td>15000</td>\n",
       "      <td>Yes</td>\n",
       "      <td>75%</td>\n",
       "      <td>1 - 1.30 hour</td>\n",
       "      <td>0 - 30 minutes</td>\n",
       "      <td>Bad</td>\n",
       "      <td>Bad</td>\n",
       "      <td>No</td>\n",
       "    </tr>\n",
       "    <tr>\n",
       "      <th>2</th>\n",
       "      <td>Yes</td>\n",
       "      <td>Male</td>\n",
       "      <td>BCA</td>\n",
       "      <td>159.0</td>\n",
       "      <td>78.0</td>\n",
       "      <td>71.0</td>\n",
       "      <td>61.0</td>\n",
       "      <td>55.0</td>\n",
       "      <td>Cinema</td>\n",
       "      <td>1 - 2 Hour</td>\n",
       "      <td>Anytime</td>\n",
       "      <td>13000</td>\n",
       "      <td>Yes</td>\n",
       "      <td>50%</td>\n",
       "      <td>More than 2 hour</td>\n",
       "      <td>30 - 60 minutes</td>\n",
       "      <td>Awful</td>\n",
       "      <td>Bad</td>\n",
       "      <td>No</td>\n",
       "    </tr>\n",
       "    <tr>\n",
       "      <th>3</th>\n",
       "      <td>Yes</td>\n",
       "      <td>Female</td>\n",
       "      <td>BCA</td>\n",
       "      <td>147.0</td>\n",
       "      <td>20.0</td>\n",
       "      <td>70.0</td>\n",
       "      <td>59.0</td>\n",
       "      <td>58.0</td>\n",
       "      <td>Reading books</td>\n",
       "      <td>1 - 2 Hour</td>\n",
       "      <td>Anytime</td>\n",
       "      <td>1500000</td>\n",
       "      <td>No</td>\n",
       "      <td>50%</td>\n",
       "      <td>1.30 - 2 hour</td>\n",
       "      <td>0 - 30 minutes</td>\n",
       "      <td>Bad</td>\n",
       "      <td>good</td>\n",
       "      <td>No</td>\n",
       "    </tr>\n",
       "    <tr>\n",
       "      <th>4</th>\n",
       "      <td>No</td>\n",
       "      <td>Male</td>\n",
       "      <td>BCA</td>\n",
       "      <td>170.0</td>\n",
       "      <td>54.0</td>\n",
       "      <td>40.0</td>\n",
       "      <td>65.0</td>\n",
       "      <td>30.0</td>\n",
       "      <td>Video Games</td>\n",
       "      <td>30 - 60 minute</td>\n",
       "      <td>Morning</td>\n",
       "      <td>50000</td>\n",
       "      <td>Yes</td>\n",
       "      <td>25%</td>\n",
       "      <td>1.30 - 2 hour</td>\n",
       "      <td>30 - 60 minutes</td>\n",
       "      <td>Good</td>\n",
       "      <td>good</td>\n",
       "      <td>No</td>\n",
       "    </tr>\n",
       "  </tbody>\n",
       "</table>\n",
       "</div>"
      ],
      "text/plain": [
       "  Certification Course  Gender Department  Height(CM)  Weight(KG)  10th Mark  \\\n",
       "0                   No    Male        BCA       100.0        58.0       79.0   \n",
       "1                   No  Female        BCA        90.0        40.0       70.0   \n",
       "2                  Yes    Male        BCA       159.0        78.0       71.0   \n",
       "3                  Yes  Female        BCA       147.0        20.0       70.0   \n",
       "4                   No    Male        BCA       170.0        54.0       40.0   \n",
       "\n",
       "   12th Mark  college mark        hobbies daily studing time  \\\n",
       "0       64.0          80.0    Video Games      0 - 30 minute   \n",
       "1       80.0          70.0         Cinema     30 - 60 minute   \n",
       "2       61.0          55.0         Cinema         1 - 2 Hour   \n",
       "3       59.0          58.0  Reading books         1 - 2 Hour   \n",
       "4       65.0          30.0    Video Games     30 - 60 minute   \n",
       "\n",
       "  prefer to study in  salary expectation Do you like your degree?  \\\n",
       "0            Morning               40000                       No   \n",
       "1            Morning               15000                      Yes   \n",
       "2            Anytime               13000                      Yes   \n",
       "3            Anytime             1500000                       No   \n",
       "4            Morning               50000                      Yes   \n",
       "\n",
       "  willingness to pursue a career based on their degree   social medai & video  \\\n",
       "0                                                50%            1.30 - 2 hour   \n",
       "1                                                75%            1 - 1.30 hour   \n",
       "2                                                50%         More than 2 hour   \n",
       "3                                                50%            1.30 - 2 hour   \n",
       "4                                                25%            1.30 - 2 hour   \n",
       "\n",
       "  Travelling Time  Stress Level  Financial Status part-time job  \n",
       "0  30 - 60 minutes           Bad              Bad            No  \n",
       "1   0 - 30 minutes           Bad              Bad            No  \n",
       "2  30 - 60 minutes         Awful              Bad            No  \n",
       "3   0 - 30 minutes           Bad             good            No  \n",
       "4  30 - 60 minutes          Good             good            No  "
      ]
     },
     "execution_count": 3,
     "metadata": {},
     "output_type": "execute_result"
    }
   ],
   "source": [
    "data.head()"
   ]
  },
  {
   "cell_type": "code",
   "execution_count": 4,
   "id": "402ccc04-232d-4c27-aa5d-470a483f532d",
   "metadata": {},
   "outputs": [
    {
     "name": "stdout",
     "output_type": "stream",
     "text": [
      "<class 'pandas.core.frame.DataFrame'>\n",
      "RangeIndex: 235 entries, 0 to 234\n",
      "Data columns (total 19 columns):\n",
      " #   Column                                                  Non-Null Count  Dtype  \n",
      "---  ------                                                  --------------  -----  \n",
      " 0   Certification Course                                    235 non-null    object \n",
      " 1   Gender                                                  235 non-null    object \n",
      " 2   Department                                              235 non-null    object \n",
      " 3   Height(CM)                                              235 non-null    float64\n",
      " 4   Weight(KG)                                              235 non-null    float64\n",
      " 5   10th Mark                                               235 non-null    float64\n",
      " 6   12th Mark                                               235 non-null    float64\n",
      " 7   college mark                                            235 non-null    float64\n",
      " 8   hobbies                                                 235 non-null    object \n",
      " 9   daily studing time                                      235 non-null    object \n",
      " 10  prefer to study in                                      235 non-null    object \n",
      " 11  salary expectation                                      235 non-null    int64  \n",
      " 12  Do you like your degree?                                235 non-null    object \n",
      " 13  willingness to pursue a career based on their degree    235 non-null    object \n",
      " 14  social medai & video                                    235 non-null    object \n",
      " 15  Travelling Time                                         235 non-null    object \n",
      " 16  Stress Level                                            235 non-null    object \n",
      " 17  Financial Status                                        235 non-null    object \n",
      " 18  part-time job                                           235 non-null    object \n",
      "dtypes: float64(5), int64(1), object(13)\n",
      "memory usage: 35.0+ KB\n",
      "None\n"
     ]
    }
   ],
   "source": [
    "print(data.info())"
   ]
  },
  {
   "cell_type": "code",
   "execution_count": 5,
   "id": "2f7f4c59-e469-401f-8b39-cc2202d3e565",
   "metadata": {},
   "outputs": [
    {
     "name": "stdout",
     "output_type": "stream",
     "text": [
      "       Height(CM)  Weight(KG)   10th Mark   12th Mark  college mark  \\\n",
      "count  235.000000  235.000000  235.000000  235.000000    235.000000   \n",
      "mean   157.402128   60.803830   76.848511   68.775872     70.660553   \n",
      "std     21.510805   14.895844   13.047560   11.018192     15.727446   \n",
      "min      4.500000   20.000000    7.400000   45.000000      1.000000   \n",
      "25%    152.000000   50.000000   70.000000   60.000000     60.000000   \n",
      "50%    160.000000   60.000000   80.000000   69.000000     70.000000   \n",
      "75%    170.000000   70.000000   86.250000   76.000000     80.000000   \n",
      "max    192.000000  106.000000   98.000000   94.000000    100.000000   \n",
      "\n",
      "       salary expectation  \n",
      "count        2.350000e+02  \n",
      "mean         3.248168e+04  \n",
      "std          1.113146e+05  \n",
      "min          0.000000e+00  \n",
      "25%          1.500000e+04  \n",
      "50%          2.000000e+04  \n",
      "75%          2.500000e+04  \n",
      "max          1.500000e+06  \n"
     ]
    }
   ],
   "source": [
    "print(data.describe())"
   ]
  },
  {
   "cell_type": "code",
   "execution_count": 6,
   "id": "3d2f3570-7c17-4379-8410-f08e978b10d5",
   "metadata": {},
   "outputs": [
    {
     "name": "stdout",
     "output_type": "stream",
     "text": [
      "Stress Level \n",
      "Good        137\n",
      "Bad          68\n",
      "Awful        19\n",
      "fabulous     11\n",
      "Name: count, dtype: int64\n"
     ]
    }
   ],
   "source": [
    "# Stress Level 값 분포 확인\n",
    "print(data['Stress Level '].value_counts())"
   ]
  },
  {
   "cell_type": "code",
   "execution_count": 7,
   "id": "e8d2f555-bb6d-4b80-b8c1-67337bb4a8c9",
   "metadata": {},
   "outputs": [
    {
     "name": "stdout",
     "output_type": "stream",
     "text": [
      "Stress Level \n",
      "1    137\n",
      "3     68\n",
      "4     19\n",
      "2     11\n",
      "Name: count, dtype: int64\n"
     ]
    }
   ],
   "source": [
    "# Stress Level을 수치형으로 매핑\n",
    "stress_mapping = {'Good': 1, 'fabulous': 2, 'Bad': 3, 'Awful': 4}\n",
    "data['Stress Level '] = data['Stress Level '].map(stress_mapping)\n",
    "\n",
    "print(data['Stress Level '].value_counts())"
   ]
  },
  {
   "cell_type": "code",
   "execution_count": 8,
   "id": "6c7acb6d-3f7b-4933-97f2-0a9b5e09a3ce",
   "metadata": {},
   "outputs": [],
   "source": [
    "plt.rcParams['font.family'] = 'NanumGothic' "
   ]
  },
  {
   "cell_type": "code",
   "execution_count": 9,
   "id": "2b890aa4-0bff-4785-8e51-70baacc3a322",
   "metadata": {},
   "outputs": [
    {
     "data": {
      "image/png": "[encoded data removed]",
      "text/plain": [
       "<Figure size 1000x600 with 1 Axes>"
      ]
     },
     "metadata": {},
     "output_type": "display_data"
    }
   ],
   "source": [
    "# Stress Level과 college mark의 관계\n",
    "plt.figure(figsize=(10, 6))\n",
    "sns.boxplot(x='Stress Level ', y='college mark', data=data)\n",
    "plt.title('Stress Level과 성적의 관계')\n",
    "plt.xlabel('Stress Level')\n",
    "plt.ylabel('College Mark')\n",
    "plt.xticks(ticks=[0, 1, 2, 3], labels=['Good', 'Fabulous', 'Bad', 'Awful'])\n",
    "plt.show()"
   ]
  },
  {
   "cell_type": "code",
   "execution_count": 35,
   "id": "566fe4f8-0b72-4eba-b256-97ccd04f2c94",
   "metadata": {},
   "outputs": [
    {
     "name": "stdout",
     "output_type": "stream",
     "text": [
      "시험 성적 정규성 검정: 0.879, p-value = 1.0397587738714131e-12\n",
      "스트레스 레벨 정규성 검정: 0.715, p-value = 8.738398675790979e-20\n"
     ]
    }
   ],
   "source": [
    "from scipy.stats import shapiro\n",
    "\n",
    "# 시험 성적 정규성 검정\n",
    "stat_college, p_college = shapiro(data['college mark'])\n",
    "print(f\"시험 성적 정규성 검정: {stat_college:.3f}, p-value = {p_college}\") # 정규성을 따르지 않는다.\n",
    "\n",
    "# 스트레스 레벨 정규성 검정\n",
    "stat_stress, p_stress = shapiro(data['Stress Level '])\n",
    "print(f\"스트레스 레벨 정규성 검정: {stat_stress:.3f}, p-value = {p_stress}\") # 정규성을 따르지 않는다."
   ]
  },
  {
   "cell_type": "code",
   "execution_count": 36,
   "id": "482e39e8-3fe9-490a-bd8e-14c0ac806616",
   "metadata": {},
   "outputs": [
    {
     "name": "stdout",
     "output_type": "stream",
     "text": [
      "등분산성 검정: 0.920, p-value = 0.43190771637438174\n"
     ]
    }
   ],
   "source": [
    "from scipy.stats import levene\n",
    "\n",
    "# 스트레스 레벨 별 그룹\n",
    "stress_groups = data.groupby('Stress Level ')['college mark'].apply(list)\n",
    "\n",
    "# 등분산성 검정\n",
    "stat_levene, p_levene = levene(*stress_groups)\n",
    "print(f\"등분산성 검정: {stat_levene:.3f}, p-value = {p_levene}\") # 등분산성을 만족한다."
   ]
  },
  {
   "cell_type": "code",
   "execution_count": 41,
   "id": "22d03119-ba0f-4a4f-a667-38f8fc0255ae",
   "metadata": {},
   "outputs": [
    {
     "name": "stdout",
     "output_type": "stream",
     "text": [
      "Kruskal-Wallis 검정 통계량: 7.114, p-value = 0.068\n",
      "p-value가 0.05보다 크므로, 스트레스 레벨 그룹 간 성적에 유의미한 차이가 없습니다.\n"
     ]
    }
   ],
   "source": [
    "from scipy.stats import kruskal\n",
    "\n",
    "stress_groups = data.groupby('Stress Level ')['college mark'].apply(list)\n",
    "\n",
    "stat_kruskal, p_kruskal = kruskal(*stress_groups)\n",
    "\n",
    "print(f\"Kruskal-Wallis 검정 통계량: {stat_kruskal:.3f}, p-value = {p_kruskal:.3f}\")\n",
    "\n",
    "if p_kruskal < 0.05:\n",
    "    print(\"p-value가 0.05보다 작으므로, 스트레스 레벨 그룹 간 성적에 유의미한 차이가 있습니다.\")\n",
    "else:\n",
    "    print(\"p-value가 0.05보다 크므로, 스트레스 레벨 그룹 간 성적에 유의미한 차이가 없습니다.\")"
   ]
  },
  {
   "cell_type": "code",
   "execution_count": null,
   "id": "b75571eb-5faa-4454-a0e5-b9c2e9666cb1",
   "metadata": {},
   "outputs": [],
   "source": []
  }
 ],
 "metadata": {
  "kernelspec": {
   "display_name": "sda2024",
   "language": "python",
   "name": "sda2024"
  },
  "language_info": {
   "codemirror_mode": {
    "name": "ipython",
    "version": 3
   },
   "file_extension": ".py",
   "mimetype": "text/x-python",
   "name": "python",
   "nbconvert_exporter": "python",
   "pygments_lexer": "ipython3",
   "version": "3.8.18"
  }
 },
 "nbformat": 4,
 "nbformat_minor": 5
}
